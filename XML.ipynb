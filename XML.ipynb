{
 "cells": [
  {
   "cell_type": "code",
   "execution_count": 3,
   "metadata": {},
   "outputs": [
    {
     "data": {
      "text/plain": [
       "'<?xml version=\"1.0\" encoding=\"UTF-8\" ?>\\n<rss version=\"2.0\">\\n<channel>\\n<title>기상청 동네예보 웹서비스 - 서울특별시 서대문구 남가좌제2동 도표예보</title>\\n<link>http://www.kma.go.kr/weather/main.jsp</link>\\n<description>동네예보 웹서비스</description>\\n<language>ko</language>\\n<generator>동네예보</generator>\\n<pubDate>2020년 11월 20일 (금)요일 20:00</pubDate>\\n <item>\\n<author>기상청</author>\\n<category>서울특별시 서대문구 남가좌제2동</category>\\n<title>동네예보(도표) : 서울특별시 서대문구 남가좌제2동 [X=59,Y=127]</title><link>http://www.kma.go.kr/weather/forecast/timeseries.jsp?searchType=INTEREST&amp;dongCode=1141070000</link>\\n<guid>http://www.kma.go.kr/weather/forecast/timeseries.jsp?searchType=INTEREST&amp;dongCode=1141070000</guid>\\n<description>\\n <header>\\n  <tm>202011202000</tm>\\n  <ts>6</ts>\\n  <x>59</x>\\n  <y>127</y>\\n </header>\\n <body>\\n  <data seq=\"0\">\\n   <hour>24</hour>\\n   <day>0</day>\\n   <temp>1.0</temp>\\n   <tmx>-999.0</tmx>\\n   <tmn>-999.0</tmn>\\n   <sky>4</sky>\\n   <pty>0</pty>\\n   <wfKor>흐림</wfKor>\\n   <wfEn>Cloudy</wfEn>\\n   <pop>30</pop>\\n   <r12>0.0</r12>\\n   <s12>0.0</s12>\\n   <ws>1.1</ws>\\n   <wd>0</wd>\\n   <wdKor>북</wdKor>\\n   <wdEn>N</wdEn>\\n   <reh>70</reh>\\n   <r06>0.0</r06>\\n   <s06>0.0</s06>\\n  </data>\\n  <data seq=\"1\">\\n   <hour>3</hour>\\n   <day>1</day>\\n   <temp>1.0</temp>\\n   <tmx>12.0</tmx>\\n   <tmn>1.0</tmn>\\n   <sky>1</sky>\\n   <pty>0</pty>\\n   <wfKor>맑음</wfKor>\\n   <wfEn>Clear</wfEn>\\n   <pop>0</pop>\\n   <r12>0.0</r12>\\n   <s12>0.0</s12>\\n   <ws>1.1</ws>\\n   <wd>0</wd>\\n   <wdKor>북</wdKor>\\n   <wdEn>N</wdEn>\\n   <reh>75</reh>\\n   <r06>0.0</r06>\\n   <s06>0.0</s06>\\n  </data>\\n  <data seq=\"2\">\\n   <hour>6</hour>\\n   <day>1</day>\\n   <temp>1.0</temp>\\n   <tmx>12.0</tmx>\\n   <tmn>1.0</tmn>\\n   <sky>1</sky>\\n   <pty>0</pty>\\n   <wfKor>맑음</wfKor>\\n   <wfEn>Clear</wfEn>\\n   <pop>0</pop>\\n   <r12>0.0</r12>\\n   <s12>0.0</s12>\\n   <ws>1.0</ws>\\n   <wd>1</wd>\\n   <wdKor>북동</wdKor>\\n   <wdEn>NE</wdEn>\\n   <reh>75</reh>\\n   <r06>0.0</r06>\\n   <s06>0.0</s06>\\n  </data>\\n  <data seq=\"3\">\\n   <hour>9</hour>\\n   <day>1</day>\\n   <temp>3.0</temp>\\n   <tmx>12.0</tmx>\\n   <tmn>1.0</tmn>\\n   <sky>3</sky>\\n   <pty>0</pty>\\n   <wfKor>구름 많음</wfKor>\\n   <wfEn>Mostly Cloudy</wfEn>\\n   <pop>20</pop>\\n   <r12>0.0</r12>\\n   <s12>0.0</s12>\\n   <ws>1.0</ws>\\n   <wd>2</wd>\\n   <wdKor>동</wdKor>\\n   <wdEn>E</wdEn>\\n   <reh>70</reh>\\n   <r06>0.0</r06>\\n   <s06>0.0</s06>\\n  </data>\\n  <data seq=\"4\">\\n   <hour>12</hour>\\n   <day>1</day>\\n   <temp>9.0</temp>\\n   <tmx>12.0</tmx>\\n   <tmn>1.0</tmn>\\n   <sky>3</sky>\\n   <pty>0</pty>\\n   <wfKor>구름 많음</wfKor>\\n   <wfEn>Mostly Cloudy</wfEn>\\n   <pop>20</pop>\\n   <r12>0.0</r12>\\n   <s12>0.0</s12>\\n   <ws>1.2000000000000002</ws>\\n   <wd>3</wd>\\n   <wdKor>남동</wdKor>\\n   <wdEn>SE</wdEn>\\n   <reh>55</reh>\\n   <r06>0.0</r06>\\n   <s06>0.0</s06>\\n  </data>\\n  <data seq=\"5\">\\n   <hour>15</hour>\\n   <day>1</day>\\n   <temp>11.0</temp>\\n   <tmx>12.0</tmx>\\n   <tmn>1.0</tmn>\\n   <sky>3</sky>\\n   <pty>0</pty>\\n   <wfKor>구름 많음</wfKor>\\n   <wfEn>Mostly Cloudy</wfEn>\\n   <pop>20</pop>\\n   <r12>0.0</r12>\\n   <s12>0.0</s12>\\n   <ws>1.9000000000000001</ws>\\n   <wd>3</wd>\\n   <wdKor>남동</wdKor>\\n   <wdEn>SE</wdEn>\\n   <reh>55</reh>\\n   <r06>0.0</r06>\\n   <s06>0.0</s06>\\n  </data>\\n  <data seq=\"6\">\\n   <hour>18</hour>\\n   <day>1</day>\\n   <temp>9.0</temp>\\n   <tmx>12.0</tmx>\\n   <tmn>1.0</tmn>\\n   <sky>4</sky>\\n   <pty>0</pty>\\n   <wfKor>흐림</wfKor>\\n   <wfEn>Cloudy</wfEn>\\n   <pop>30</pop>\\n   <r12>0.0</r12>\\n   <s12>0.0</s12>\\n   <ws>1.6</ws>\\n   <wd>3</wd>\\n   <wdKor>남동</wdKor>\\n   <wdEn>SE</wdEn>\\n   <reh>65</reh>\\n   <r06>0.0</r06>\\n   <s06>0.0</s06>\\n  </data>\\n  <data seq=\"7\">\\n   <hour>21</hour>\\n   <day>1</day>\\n   <temp>8.0</temp>\\n   <tmx>12.0</tmx>\\n   <tmn>1.0</tmn>\\n   <sky>4</sky>\\n   <pty>0</pty>\\n   <wfKor>흐림</wfKor>\\n   <wfEn>Cloudy</wfEn>\\n   <pop>30</pop>\\n   <r12>0.0</r12>\\n   <s12>0.0</s12>\\n   <ws>1.3</ws>\\n   <wd>3</wd>\\n   <wdKor>남동</wdKor>\\n   <wdEn>SE</wdEn>\\n   <reh>75</reh>\\n   <r06>0.0</r06>\\n   <s06>0.0</s06>\\n  </data>\\n  <data seq=\"8\">\\n   <hour>24</hour>\\n   <day>1</day>\\n   <temp>9.0</temp>\\n   <tmx>12.0</tmx>\\n   <tmn>1.0</tmn>\\n   <sky>4</sky>\\n   <pty>0</pty>\\n   <wfKor>흐림</wfKor>\\n   <wfEn>Cloudy</wfEn>\\n   <pop>30</pop>\\n   <r12>0.0</r12>\\n   <s12>0.0</s12>\\n   <ws>1.1</ws>\\n   <wd>3</wd>\\n   <wdKor>남동</wdKor>\\n   <wdEn>SE</wdEn>\\n   <reh>80</reh>\\n   <r06>0.0</r06>\\n   <s06>0.0</s06>\\n  </data>\\n  <data seq=\"9\">\\n   <hour>3</hour>\\n   <day>2</day>\\n   <temp>8.0</temp>\\n   <tmx>10.0</tmx>\\n   <tmn>6.0</tmn>\\n   <sky>4</sky>\\n   <pty>0</pty>\\n   <wfKor>흐림</wfKor>\\n   <wfEn>Cloudy</wfEn>\\n   <pop>30</pop>\\n   <r12>0.0</r12>\\n   <s12>0.0</s12>\\n   <ws>1.0</ws>\\n   <wd>3</wd>\\n   <wdKor>남동</wdKor>\\n   <wdEn>SE</wdEn>\\n   <reh>85</reh>\\n   <r06>1.9</r06>\\n   <s06>0.0</s06>\\n  </data>\\n  <data seq=\"10\">\\n   <hour>6</hour>\\n   <day>2</day>\\n   <temp>7.0</temp>\\n   <tmx>10.0</tmx>\\n   <tmn>6.0</tmn>\\n   <sky>4</sky>\\n   <pty>1</pty>\\n   <wfKor>비</wfKor>\\n   <wfEn>Rain</wfEn>\\n   <pop>60</pop>\\n   <r12>0.0</r12>\\n   <s12>0.0</s12>\\n   <ws>1.2000000000000002</ws>\\n   <wd>0</wd>\\n   <wdKor>북</wdKor>\\n   <wdEn>N</wdEn>\\n   <reh>75</reh>\\n   <r06>1.9</r06>\\n   <s06>0.0</s06>\\n  </data>\\n  <data seq=\"11\">\\n   <hour>9</hour>\\n   <day>2</day>\\n   <temp>7.0</temp>\\n   <tmx>10.0</tmx>\\n   <tmn>6.0</tmn>\\n   <sky>4</sky>\\n   <pty>1</pty>\\n   <wfKor>비</wfKor>\\n   <wfEn>Rain</wfEn>\\n   <pop>60</pop>\\n   <r12>0.0</r12>\\n   <s12>0.0</s12>\\n   <ws>1.4000000000000001</ws>\\n   <wd>0</wd>\\n   <wdKor>북</wdKor>\\n   <wdEn>N</wdEn>\\n   <reh>75</reh>\\n   <r06>2.2</r06>\\n   <s06>0.0</s06>\\n  </data>\\n  <data seq=\"12\">\\n   <hour>12</hour>\\n   <day>2</day>\\n   <temp>9.0</temp>\\n   <tmx>10.0</tmx>\\n   <tmn>6.0</tmn>\\n   <sky>4</sky>\\n   <pty>0</pty>\\n   <wfKor>흐림</wfKor>\\n   <wfEn>Cloudy</wfEn>\\n   <pop>30</pop>\\n   <r12>0.0</r12>\\n   <s12>0.0</s12>\\n   <ws>1.8</ws>\\n   <wd>7</wd>\\n   <wdKor>북서</wdKor>\\n   <wdEn>NW</wdEn>\\n   <reh>60</reh>\\n   <r06>2.2</r06>\\n   <s06>0.0</s06>\\n  </data>\\n  <data seq=\"13\">\\n   <hour>15</hour>\\n   <day>2</day>\\n   <temp>9.0</temp>\\n   <tmx>10.0</tmx>\\n   <tmn>6.0</tmn>\\n   <sky>3</sky>\\n   <pty>0</pty>\\n   <wfKor>구름 많음</wfKor>\\n   <wfEn>Mostly Cloudy</wfEn>\\n   <pop>20</pop>\\n   <r12>0.0</r12>\\n   <s12>0.0</s12>\\n   <ws>2.2</ws>\\n   <wd>7</wd>\\n   <wdKor>북서</wdKor>\\n   <wdEn>NW</wdEn>\\n   <reh>50</reh>\\n   <r06>0.0</r06>\\n   <s06>0.0</s06>\\n  </data>\\n  <data seq=\"14\">\\n   <hour>18</hour>\\n   <day>2</day>\\n   <temp>6.0</temp>\\n   <tmx>10.0</tmx>\\n   <tmn>6.0</tmn>\\n   <sky>3</sky>\\n   <pty>0</pty>\\n   <wfKor>구름 많음</wfKor>\\n   <wfEn>Mostly Cloudy</wfEn>\\n   <pop>20</pop>\\n   <r12>0.0</r12>\\n   <s12>0.0</s12>\\n   <ws>2.1</ws>\\n   <wd>7</wd>\\n   <wdKor>북서</wdKor>\\n   <wdEn>NW</wdEn>\\n   <reh>60</reh>\\n   <r06>0.0</r06>\\n   <s06>0.0</s06>\\n  </data>\\n  <data seq=\"15\">\\n   <hour>21</hour>\\n   <day>2</day>\\n   <temp>3.0</temp>\\n   <tmx>10.0</tmx>\\n   <tmn>6.0</tmn>\\n   <sky>1</sky>\\n   <pty>0</pty>\\n   <wfKor>맑음</wfKor>\\n   <wfEn>Clear</wfEn>\\n   <pop>0</pop>\\n   <r12>0.0</r12>\\n   <s12>0.0</s12>\\n   <ws>2.2</ws>\\n   <wd>7</wd>\\n   <wdKor>북서</wdKor>\\n   <wdEn>NW</wdEn>\\n   <reh>65</reh>\\n   <r06>0.0</r06>\\n   <s06>0.0</s06>\\n  </data>\\n  <data seq=\"16\">\\n   <hour>24</hour>\\n   <day>2</day>\\n   <temp>2.0</temp>\\n   <tmx>10.0</tmx>\\n   <tmn>6.0</tmn>\\n   <sky>1</sky>\\n   <pty>0</pty>\\n   <wfKor>맑음</wfKor>\\n   <wfEn>Clear</wfEn>\\n   <pop>0</pop>\\n   <r12>0.0</r12>\\n   <s12>0.0</s12>\\n   <ws>1.9000000000000001</ws>\\n   <wd>7</wd>\\n   <wdKor>북서</wdKor>\\n   <wdEn>NW</wdEn>\\n   <reh>60</reh>\\n   <r06>0.0</r06>\\n   <s06>0.0</s06>\\n  </data>\\n </body>\\n</description>\\n</item>\\n</channel>\\n</rss>'"
      ]
     },
     "execution_count": 3,
     "metadata": {},
     "output_type": "execute_result"
    }
   ],
   "source": [
    "import requests\n",
    "url = 'http://www.kma.go.kr/wid/queryDFSRSS.jsp?zone=1141070000'\n",
    "response = requests.get(url).text\n",
    "response\n",
    "# 변환과정이 필요하다 json 형태로 바꿔주기 위해서."
   ]
  },
  {
   "cell_type": "code",
   "execution_count": 69,
   "metadata": {},
   "outputs": [
    {
     "data": {
      "text/plain": [
       "{'day0': '흐림', 'day1': '맑음', 'day2': '맑음'}"
      ]
     },
     "execution_count": 69,
     "metadata": {},
     "output_type": "execute_result"
    }
   ],
   "source": [
    "import xmltodict\n",
    "import requests\n",
    "url = 'http://www.kma.go.kr/wid/queryDFSRSS.jsp?zone=1141070000'\n",
    "response = requests.get(url).text\n",
    "wheather_data = xmltodict.parse(response)\n",
    "info = wheather_data['rss']['channel']['item']['description']['body']\n",
    "info = info['data']\n",
    "dayinfo = {}\n",
    "for i in range(0,3) :\n",
    "    dayinfo['day'+str(i)]= dict(info[i]).get('wfKor')\n",
    "dayinfo\n",
    "    \n",
    "    \n",
    "    \n",
    "# for i in range(0,3) :"
   ]
  },
  {
   "cell_type": "markdown",
   "metadata": {},
   "source": [
    "# A object has no attribute b\n",
    "    * a는 b 메서드가 없기 때문에 사용할 수 없습니다.\n",
    "   * a.b() 할 수 없다는 이야기."
   ]
  },
  {
   "cell_type": "code",
   "execution_count": 76,
   "metadata": {},
   "outputs": [],
   "source": [
    "import xmltodict\n",
    "import requests\n",
    "import pandas as pd\n",
    "url = 'https://news.google.com/rss/search?q=트럼프&hl=ko&gl=KR&ceid=KR%3Ako'\n",
    "response = requests.get(url).text\n",
    "news_data = xmltodict.parse(response)\n",
    "news_list = news_data['rss']['channel']['item']\n",
    "all_news_list = []\n",
    "for news in news_list :\n",
    "    title = news['title']\n",
    "    link = news['link']\n",
    "    one_news = {'title' : title , 'link' : link }\n",
    "    all_news_list.append(one_news)\n",
    "pd.DataFrame(all_news_list).to_csv('news_data.csv', encoding = 'utf-8-sig')\n",
    "# pandas 에서저장하는 방식과 excel 에서 읽는 방식이 다르기 때문.\n",
    "# 저장할 떄 변환해서 저장하거나, 읽을 때 엑셀에서 읽을 수 있게 변환"
   ]
  },
  {
   "cell_type": "markdown",
   "metadata": {},
   "source": [
    "new_get 함수를 만들어주세여\n",
    "*news_get(\"아베총리\") 실행하면\n",
    "이 안에는 아베총리로 검색한 뉴스의 결과가 제목과 출처로 들어있습니다(100개)"
   ]
  },
  {
   "cell_type": "markdown",
   "metadata": {},
   "source": [
    "# beautiful soup\n",
    "* 날씨와 뉴스 정보\n",
    "* 딕셔너리가 아닌 방법으로 데이터를 다룹니다."
   ]
  },
  {
   "cell_type": "code",
   "execution_count": 6,
   "metadata": {},
   "outputs": [
    {
     "name": "stdout",
     "output_type": "stream",
     "text": [
      "구름 많음\n",
      "구름 많음\n",
      "구름 많음\n",
      "흐림\n",
      "흐림\n",
      "흐림\n",
      "구름 많음\n",
      "맑음\n",
      "맑음\n",
      "맑음\n",
      "구름 많음\n",
      "흐림\n",
      "흐림\n",
      "구름 많음\n",
      "구름 많음\n",
      "흐림\n",
      "맑음\n",
      "구름 많음\n"
     ]
    }
   ],
   "source": [
    "import xmltodict\n",
    "import requests\n",
    "import bs4\n",
    "url = 'http://www.kma.go.kr/wid/queryDFSRSS.jsp?zone=4111758000'\n",
    "response = requests.get(url).text\n",
    "weather_data = bs4.BeautifulSoup(response)\n",
    "weather_list = weather_data.find_all('data')\n",
    "for one in weather_list:\n",
    "    weather = one.find('wfkor').text\n",
    "    print(weather)"
   ]
  },
  {
   "cell_type": "code",
   "execution_count": 13,
   "metadata": {},
   "outputs": [
    {
     "ename": "SyntaxError",
     "evalue": "invalid syntax (<ipython-input-13-ab2e6dc4ab50>, line 18)",
     "output_type": "error",
     "traceback": [
      "\u001b[1;36m  File \u001b[1;32m\"<ipython-input-13-ab2e6dc4ab50>\"\u001b[1;36m, line \u001b[1;32m18\u001b[0m\n\u001b[1;33m    news_get('아베총리')\u001b[0m\n\u001b[1;37m    ^\u001b[0m\n\u001b[1;31mSyntaxError\u001b[0m\u001b[1;31m:\u001b[0m invalid syntax\n"
     ]
    }
   ],
   "source": [
    "import requests\n",
    "import bs4\n",
    "import pandas as pd\n",
    "def news_get(keyword):\n",
    "    url = f'https://news.google.com/rss/search?q={keyword}&hl=ko&gl=KR&ceid=KR%3Ako'\n",
    "    # 어떤 내용으로 요청을 보낼지에 대한 부분이 url 변수에 들어있습니다.\n",
    "    response = requests.get(url).text\n",
    "    news_data = bs4.BeautifulSoup(response)\n",
    "    news_list = news_data.find_all('item')\n",
    "    all_news_list = []\n",
    "    for news in news_list:\n",
    "        title = news.find('title').text\n",
    "        link = news.find('link').text\n",
    "        one_news = {'title' : title, 'link' : link}\n",
    "        all_news_list.append(one_news)\n",
    "    pd.DataFrame(all_news_list).to_csv(keyword + '.csv', encoding='utf-8-sig'\n",
    "\n",
    "news_get('아베총리')"
   ]
  },
  {
   "cell_type": "code",
   "execution_count": 26,
   "metadata": {},
   "outputs": [
    {
     "name": "stdout",
     "output_type": "stream",
     "text": [
      "http://vip.mk.co.kr/news/view/21/20/1848024.html\n",
      "http://www.hani.co.kr/arti/international/japan/971090.html\n",
      "https://www.donga.com/news/Inter/article/all/20201026/103631231/1\n",
      "https://www.donga.com/news/Politics/article/all/20201123/104106706/1\n",
      "https://news.joins.com/article/23925469\n",
      "https://news.imaeil.com/Satirical/2020112314580744268\n",
      "https://www.bbc.com/korean/features-53844478\n",
      "https://www.chosun.com/site/data/html_dir/2020/08/28/2020082802545.html\n",
      "http://www.opinionnews.co.kr/news/articleView.html?idxno=43101\n",
      "https://www.yna.co.kr/view/AKR20201123114100001\n",
      "https://www.chosun.com/international/2020/11/19/B25YDQ4AXJFF5PZATYMYTQU37Y/\n",
      "https://www.mk.co.kr/news/business/view/2020/11/1205142/\n",
      "http://www.hani.co.kr/arti/international/japan/960876.html\n",
      "http://www.hani.co.kr/arti/international/japan/958192.html\n",
      "http://www.hani.co.kr/arti/international/japan/956275.html\n",
      "https://www.chosun.com/site/data/html_dir/2020/08/21/2020082104336.html\n",
      "https://biz.chosun.com/site/data/html_dir/2020/08/25/2020082502465.html\n",
      "http://m.hynews.kr/view.php?idx=57040\n",
      "https://biz.chosun.com/site/data/html_dir/2020/08/28/2020082802750.html\n",
      "http://www.hani.co.kr/arti/international/japan/942341.html\n",
      "https://www.seoul.co.kr/news/newsView.php?id=20201123014024\n",
      "https://www.donga.com/news/Inter/article/all/20200912/102902606/2\n",
      "http://www.gnetimes.co.kr/news/articleView.html?idxno=60513\n",
      "https://www.bbc.com/korean/international-54145424\n",
      "https://www.chosun.com/site/data/html_dir/2020/06/27/2020062700139.html\n",
      "https://www.nocutnews.co.kr/news/5452159\n",
      "https://www.donga.com/news/Inter/article/all/20200903/102771939/1\n",
      "http://www.hani.co.kr/arti/opinion/column/969720.html\n",
      "https://news.mt.co.kr/mtview.php?no=2020112314134275157\n",
      "https://imnews.imbc.com/replay/2020/nwdesk/article/5867348_32524.html\n",
      "https://www.chosun.com/site/data/html_dir/2020/08/28/2020082802980.html\n",
      "https://www.chosun.com/site/data/html_dir/2020/08/25/2020082500198.html\n",
      "https://news.kbs.co.kr/news/view.do?ncd=4528158\n",
      "http://www.hani.co.kr/arti/international/japan/950607.html\n",
      "https://www.voakorea.com/world/world-today/abe-resignation\n",
      "https://www.donga.com/news/Inter/article/all/20200611/101472102/1\n",
      "https://biz.chosun.com/site/data/html_dir/2020/08/18/2020081803559.html\n",
      "http://www.hani.co.kr/arti/international/japan/959756.html\n",
      "https://www.chosun.com/site/data/html_dir/2020/08/24/2020082400548.html\n",
      "https://news.joins.com/article/23853687\n",
      "https://biz.chosun.com/site/data/html_dir/2020/06/08/2020060800697.html\n",
      "https://www.asiae.co.kr/article/bluehouse/2020112314265238751\n",
      "http://www.hani.co.kr/arti/international/japan/956561.html\n",
      "https://imnews.imbc.com/news/2020/world/article/5890709_32640.html\n",
      "https://www.voakorea.com/world/asia/abe-approval-rate\n",
      "https://www.donga.com/news/Inter/article/all/20200820/102561294/1\n",
      "https://mobile.newsis.com/view.html?ar_id=NISX20200820_0001135911\n",
      "https://m.khan.co.kr/view.html?art_id=202006252206001\n",
      "http://www.newdaily.co.kr/site/data/html/2020/08/05/2020080500181.html\n",
      "https://www.chosun.com/politics/diplomacy-defense/2020/11/13/MYDRFAQNORCXDMHXLF5WLCRAGE/\n",
      "https://www.chosun.com/site/data/html_dir/2020/08/28/2020082803222.html\n",
      "https://www.voakorea.com/world/asia/abe-trump-call\n",
      "https://www.donga.com/news/Inter/article/all/20200902/102752446/1\n",
      "https://biz.chosun.com/site/data/html_dir/2020/08/31/2020083101865.html\n",
      "https://biz.chosun.com/site/data/html_dir/2020/08/31/2020083101079.html\n",
      "https://www.dailyvet.co.kr/news/139260\n",
      "https://www.ajunews.com/view/20200727181313434\n",
      "https://www.donga.com/news/Opinion/article/all/20200612/101476221/1\n",
      "https://www.chosun.com/site/data/html_dir/2020/08/28/2020082802618.html\n",
      "https://www.hankyung.com/international/article/202008288348i\n",
      "https://biz.chosun.com/site/data/html_dir/2020/08/04/2020080402957.html\n",
      "https://news.joins.com/article/23848060\n",
      "https://news.joins.com/article/23861116\n",
      "https://biz.chosun.com/site/data/html_dir/2020/08/28/2020082803121.html\n",
      "https://biz.chosun.com/site/data/html_dir/2020/08/15/2020081501065.html\n",
      "https://www.chosun.com/site/data/html_dir/2020/08/18/2020081800209.html\n",
      "https://www.ytn.co.kr/_ln/0104_202009161620377451\n",
      "https://www.donga.com/news/Inter/article/all/20200525/101209784/1\n",
      "https://www.sedaily.com/NewsVIew/1Z1M16YVYN\n",
      "https://www.donga.com/news/Inter/article/all/20190822/97074094/1\n",
      "https://www.chosun.com/site/data/html_dir/2020/08/13/2020081303907.html\n",
      "http://mn.kbs.co.kr/mobile/news/view.do?ncd=4527594\n",
      "https://m.newspim.com/news/view/20200919000141\n",
      "https://www.donga.com/news/Inter/article/all/20200909/102852062/1\n",
      "https://www.sedaily.com/NewsVIew/1Z582L0Y15\n",
      "http://www.newstof.com/news/articleView.html?idxno=11259\n",
      "https://www.yna.co.kr/view/AKR20200406077600073\n",
      "http://www.obsnews.co.kr/news/articleView.html?idxno=1241840\n",
      "http://www.hani.co.kr/arti/international/japan/957188.html\n",
      "https://www.donga.com/news/Inter/article/all/20200904/102792044/1\n",
      "https://www.chosun.com/site/data/html_dir/2020/04/13/2020041302237.html\n",
      "https://m.yna.co.kr/view/GYH20200828002300044\n",
      "https://news.joins.com/article/23843715\n",
      "https://www.ajunews.com/view/20200807044536827\n",
      "https://www.voakorea.com/korea/korea-politics/abe-japaneseabductees-impasse\n",
      "https://www.donga.com/news/Inter/article/all/20200813/102444328/1\n",
      "https://www.chosun.com/site/data/html_dir/2020/08/03/2020080300152.html\n",
      "https://www.ytn.co.kr/_ln/0104_202005052115258716\n",
      "https://www.opinionnews.co.kr/news/articleView.html?idxno=43280\n",
      "https://www.hankyung.com/international/article/202005270575i\n",
      "http://www.hani.co.kr/arti/international/japan/959773.html\n",
      "https://www.hankyung.com/international/article/2020111975807\n",
      "https://www.donga.com/news/Inter/article/all/20200701/101770336/1\n",
      "https://biz.chosun.com/site/data/html_dir/2020/04/16/2020041601680.html\n",
      "https://news.joins.com/article/23859348\n",
      "https://biz.chosun.com/site/data/html_dir/2020/07/17/2020071702586.html\n",
      "https://www.voakorea.com/korea/korea-politics/postabe-northkorea-policy\n",
      "https://www.chosun.com/international/2020/09/04/GDU2F65535E6HNO6Z6TFU3V4JY/\n",
      "https://www.hankookilbo.com/News/Read/A2020091017100005559\n",
      "https://www.donga.com/news/Inter/article/all/20200619/101581155/1\n"
     ]
    }
   ],
   "source": [
    "url =f'https://news.google.com/rss/search?q=아베총리&hl=ko&gl=KR&ceid=KR%3Ako'\n",
    "response = requests.get(url).text\n",
    "news_data = bs4.BeautifulSoup(response,'xml')\n",
    "news_list = news_data.find_all('item')\n",
    "for news in news_list :\n",
    "    title = (news.find('title').text)\n",
    "    link = news.find('link').text\n",
    "    print(link)"
   ]
  },
  {
   "cell_type": "code",
   "execution_count": null,
   "metadata": {},
   "outputs": [],
   "source": [
    "help(bs4.BeautifulSoup)"
   ]
  }
 ],
 "metadata": {
  "kernelspec": {
   "display_name": "Python 3",
   "language": "python",
   "name": "python3"
  },
  "language_info": {
   "codemirror_mode": {
    "name": "ipython",
    "version": 3
   },
   "file_extension": ".py",
   "mimetype": "text/x-python",
   "name": "python",
   "nbconvert_exporter": "python",
   "pygments_lexer": "ipython3",
   "version": "3.8.3"
  }
 },
 "nbformat": 4,
 "nbformat_minor": 4
}
